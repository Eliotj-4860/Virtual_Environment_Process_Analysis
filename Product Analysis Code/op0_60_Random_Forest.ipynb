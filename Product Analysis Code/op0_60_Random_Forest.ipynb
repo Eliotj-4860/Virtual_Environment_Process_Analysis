{
 "cells": [
  {
   "cell_type": "markdown",
   "metadata": {},
   "source": [
    "# Random Forest"
   ]
  },
  {
   "cell_type": "code",
   "execution_count": 1,
   "metadata": {},
   "outputs": [
    {
     "name": "stdout",
     "output_type": "stream",
     "text": [
      "3.8.3 (default, Jul  2 2020, 17:30:36) [MSC v.1916 64 bit (AMD64)]\n"
     ]
    }
   ],
   "source": [
    "import sys\n",
    "print(sys.version)"
   ]
  },
  {
   "cell_type": "code",
   "execution_count": 2,
   "metadata": {},
   "outputs": [],
   "source": [
    "from sklearn.ensemble import RandomForestClassifier\n",
    "from sklearn.metrics import accuracy_score\n",
    "import pandas as pd\n",
    "import warnings\n",
    "warnings.filterwarnings('ignore')"
   ]
  },
  {
   "cell_type": "code",
   "execution_count": 3,
   "metadata": {},
   "outputs": [
    {
     "data": {
      "text/plain": [
       "'C:\\\\Users\\\\USER\\\\Desktop\\\\EGR_Cooler_Process_Analysis-master'"
      ]
     },
     "execution_count": 3,
     "metadata": {},
     "output_type": "execute_result"
    }
   ],
   "source": [
    "pwd"
   ]
  },
  {
   "cell_type": "code",
   "execution_count": 4,
   "metadata": {},
   "outputs": [],
   "source": [
    "train = pd.read_csv('./dataset/m_train_data.csv')\n",
    "test = pd.read_csv('./dataset/m_test_data.csv')"
   ]
  },
  {
   "cell_type": "code",
   "execution_count": 5,
   "metadata": {},
   "outputs": [
    {
     "data": {
      "text/html": [
       "<div>\n",
       "<style scoped>\n",
       "    .dataframe tbody tr th:only-of-type {\n",
       "        vertical-align: middle;\n",
       "    }\n",
       "\n",
       "    .dataframe tbody tr th {\n",
       "        vertical-align: top;\n",
       "    }\n",
       "\n",
       "    .dataframe thead th {\n",
       "        text-align: right;\n",
       "    }\n",
       "</style>\n",
       "<table border=\"1\" class=\"dataframe\">\n",
       "  <thead>\n",
       "    <tr style=\"text-align: right;\">\n",
       "      <th></th>\n",
       "      <th>body_length</th>\n",
       "      <th>body_width</th>\n",
       "      <th>body_height</th>\n",
       "      <th>wavyfin_length</th>\n",
       "      <th>wavyfin_width</th>\n",
       "      <th>wavyfin_height</th>\n",
       "      <th>pipe1_length</th>\n",
       "      <th>pipe1_width</th>\n",
       "      <th>pipe1_height</th>\n",
       "      <th>pipe2_length</th>\n",
       "      <th>pipe2_width</th>\n",
       "      <th>pipe2_height</th>\n",
       "      <th>flange1_length</th>\n",
       "      <th>flange1_width</th>\n",
       "      <th>flange1_height</th>\n",
       "      <th>flange2_length</th>\n",
       "      <th>flange2_width</th>\n",
       "      <th>flange2_height</th>\n",
       "    </tr>\n",
       "  </thead>\n",
       "  <tbody>\n",
       "    <tr>\n",
       "      <th>0</th>\n",
       "      <td>199.996</td>\n",
       "      <td>100.002</td>\n",
       "      <td>50.001</td>\n",
       "      <td>100.000</td>\n",
       "      <td>49.997</td>\n",
       "      <td>59.997</td>\n",
       "      <td>30.000</td>\n",
       "      <td>50.003</td>\n",
       "      <td>29.996</td>\n",
       "      <td>30.000</td>\n",
       "      <td>49.996</td>\n",
       "      <td>29.999</td>\n",
       "      <td>30.002</td>\n",
       "      <td>80.000</td>\n",
       "      <td>40.003</td>\n",
       "      <td>30.001</td>\n",
       "      <td>79.998</td>\n",
       "      <td>39.999</td>\n",
       "    </tr>\n",
       "    <tr>\n",
       "      <th>1</th>\n",
       "      <td>200.002</td>\n",
       "      <td>100.000</td>\n",
       "      <td>49.998</td>\n",
       "      <td>99.999</td>\n",
       "      <td>50.002</td>\n",
       "      <td>60.000</td>\n",
       "      <td>29.999</td>\n",
       "      <td>49.994</td>\n",
       "      <td>29.999</td>\n",
       "      <td>30.007</td>\n",
       "      <td>50.000</td>\n",
       "      <td>29.998</td>\n",
       "      <td>30.000</td>\n",
       "      <td>79.997</td>\n",
       "      <td>40.002</td>\n",
       "      <td>30.000</td>\n",
       "      <td>79.995</td>\n",
       "      <td>40.000</td>\n",
       "    </tr>\n",
       "    <tr>\n",
       "      <th>2</th>\n",
       "      <td>199.998</td>\n",
       "      <td>100.000</td>\n",
       "      <td>49.998</td>\n",
       "      <td>100.003</td>\n",
       "      <td>50.003</td>\n",
       "      <td>59.998</td>\n",
       "      <td>29.995</td>\n",
       "      <td>50.002</td>\n",
       "      <td>30.000</td>\n",
       "      <td>30.003</td>\n",
       "      <td>50.005</td>\n",
       "      <td>30.001</td>\n",
       "      <td>30.000</td>\n",
       "      <td>80.001</td>\n",
       "      <td>39.993</td>\n",
       "      <td>29.997</td>\n",
       "      <td>79.999</td>\n",
       "      <td>39.995</td>\n",
       "    </tr>\n",
       "    <tr>\n",
       "      <th>3</th>\n",
       "      <td>200.002</td>\n",
       "      <td>100.000</td>\n",
       "      <td>50.000</td>\n",
       "      <td>100.000</td>\n",
       "      <td>50.003</td>\n",
       "      <td>60.000</td>\n",
       "      <td>30.001</td>\n",
       "      <td>49.995</td>\n",
       "      <td>29.998</td>\n",
       "      <td>30.002</td>\n",
       "      <td>50.000</td>\n",
       "      <td>29.997</td>\n",
       "      <td>30.002</td>\n",
       "      <td>80.002</td>\n",
       "      <td>40.001</td>\n",
       "      <td>29.998</td>\n",
       "      <td>79.997</td>\n",
       "      <td>39.998</td>\n",
       "    </tr>\n",
       "    <tr>\n",
       "      <th>4</th>\n",
       "      <td>200.001</td>\n",
       "      <td>100.001</td>\n",
       "      <td>49.999</td>\n",
       "      <td>100.003</td>\n",
       "      <td>49.997</td>\n",
       "      <td>59.996</td>\n",
       "      <td>30.000</td>\n",
       "      <td>50.001</td>\n",
       "      <td>29.996</td>\n",
       "      <td>30.002</td>\n",
       "      <td>50.004</td>\n",
       "      <td>29.997</td>\n",
       "      <td>29.999</td>\n",
       "      <td>80.004</td>\n",
       "      <td>40.000</td>\n",
       "      <td>29.997</td>\n",
       "      <td>79.998</td>\n",
       "      <td>40.000</td>\n",
       "    </tr>\n",
       "  </tbody>\n",
       "</table>\n",
       "</div>"
      ],
      "text/plain": [
       "   body_length  body_width  body_height  wavyfin_length  wavyfin_width  \\\n",
       "0      199.996     100.002       50.001         100.000         49.997   \n",
       "1      200.002     100.000       49.998          99.999         50.002   \n",
       "2      199.998     100.000       49.998         100.003         50.003   \n",
       "3      200.002     100.000       50.000         100.000         50.003   \n",
       "4      200.001     100.001       49.999         100.003         49.997   \n",
       "\n",
       "   wavyfin_height  pipe1_length  pipe1_width  pipe1_height  pipe2_length  \\\n",
       "0          59.997        30.000       50.003        29.996        30.000   \n",
       "1          60.000        29.999       49.994        29.999        30.007   \n",
       "2          59.998        29.995       50.002        30.000        30.003   \n",
       "3          60.000        30.001       49.995        29.998        30.002   \n",
       "4          59.996        30.000       50.001        29.996        30.002   \n",
       "\n",
       "   pipe2_width  pipe2_height  flange1_length  flange1_width  flange1_height  \\\n",
       "0       49.996        29.999          30.002         80.000          40.003   \n",
       "1       50.000        29.998          30.000         79.997          40.002   \n",
       "2       50.005        30.001          30.000         80.001          39.993   \n",
       "3       50.000        29.997          30.002         80.002          40.001   \n",
       "4       50.004        29.997          29.999         80.004          40.000   \n",
       "\n",
       "   flange2_length  flange2_width  flange2_height  \n",
       "0          30.001         79.998          39.999  \n",
       "1          30.000         79.995          40.000  \n",
       "2          29.997         79.999          39.995  \n",
       "3          29.998         79.997          39.998  \n",
       "4          29.997         79.998          40.000  "
      ]
     },
     "execution_count": 5,
     "metadata": {},
     "output_type": "execute_result"
    }
   ],
   "source": [
    "X_train = train.drop(['op60_test'], axis = 1) # train data에서 op60_test 칼럼을 drop으로 삭제\n",
    "X_train.head() # head의 default 값은 5로 설정되어있다."
   ]
  },
  {
   "cell_type": "code",
   "execution_count": 6,
   "metadata": {},
   "outputs": [
    {
     "data": {
      "text/plain": [
       "0    1\n",
       "1    0\n",
       "2    0\n",
       "3    0\n",
       "4    0\n",
       "Name: op60_test, dtype: int64"
      ]
     },
     "execution_count": 6,
     "metadata": {},
     "output_type": "execute_result"
    }
   ],
   "source": [
    "Y_train = train['op60_test'] # train data에서 op60_test 칼럼을 train label 값으로 설정\n",
    "Y_train.head()"
   ]
  },
  {
   "cell_type": "code",
   "execution_count": 7,
   "metadata": {},
   "outputs": [
    {
     "data": {
      "text/html": [
       "<div>\n",
       "<style scoped>\n",
       "    .dataframe tbody tr th:only-of-type {\n",
       "        vertical-align: middle;\n",
       "    }\n",
       "\n",
       "    .dataframe tbody tr th {\n",
       "        vertical-align: top;\n",
       "    }\n",
       "\n",
       "    .dataframe thead th {\n",
       "        text-align: right;\n",
       "    }\n",
       "</style>\n",
       "<table border=\"1\" class=\"dataframe\">\n",
       "  <thead>\n",
       "    <tr style=\"text-align: right;\">\n",
       "      <th></th>\n",
       "      <th>body_length</th>\n",
       "      <th>body_width</th>\n",
       "      <th>body_height</th>\n",
       "      <th>wavyfin_length</th>\n",
       "      <th>wavyfin_width</th>\n",
       "      <th>wavyfin_height</th>\n",
       "      <th>pipe1_length</th>\n",
       "      <th>pipe1_width</th>\n",
       "      <th>pipe1_height</th>\n",
       "      <th>pipe2_length</th>\n",
       "      <th>pipe2_width</th>\n",
       "      <th>pipe2_height</th>\n",
       "      <th>flange1_length</th>\n",
       "      <th>flange1_width</th>\n",
       "      <th>flange1_height</th>\n",
       "      <th>flange2_length</th>\n",
       "      <th>flange2_width</th>\n",
       "      <th>flange2_height</th>\n",
       "    </tr>\n",
       "  </thead>\n",
       "  <tbody>\n",
       "    <tr>\n",
       "      <th>0</th>\n",
       "      <td>199.997</td>\n",
       "      <td>99.999</td>\n",
       "      <td>50.003</td>\n",
       "      <td>100.000</td>\n",
       "      <td>50.005</td>\n",
       "      <td>60.003</td>\n",
       "      <td>29.996</td>\n",
       "      <td>50.004</td>\n",
       "      <td>30.002</td>\n",
       "      <td>29.998</td>\n",
       "      <td>50.002</td>\n",
       "      <td>30.003</td>\n",
       "      <td>30.001</td>\n",
       "      <td>80.001</td>\n",
       "      <td>40.007</td>\n",
       "      <td>30.002</td>\n",
       "      <td>79.999</td>\n",
       "      <td>40.004</td>\n",
       "    </tr>\n",
       "    <tr>\n",
       "      <th>1</th>\n",
       "      <td>199.999</td>\n",
       "      <td>100.001</td>\n",
       "      <td>50.002</td>\n",
       "      <td>99.996</td>\n",
       "      <td>50.000</td>\n",
       "      <td>60.004</td>\n",
       "      <td>29.998</td>\n",
       "      <td>50.004</td>\n",
       "      <td>29.995</td>\n",
       "      <td>30.000</td>\n",
       "      <td>50.000</td>\n",
       "      <td>30.002</td>\n",
       "      <td>30.003</td>\n",
       "      <td>80.001</td>\n",
       "      <td>39.999</td>\n",
       "      <td>29.998</td>\n",
       "      <td>79.999</td>\n",
       "      <td>39.999</td>\n",
       "    </tr>\n",
       "    <tr>\n",
       "      <th>2</th>\n",
       "      <td>199.999</td>\n",
       "      <td>100.001</td>\n",
       "      <td>50.002</td>\n",
       "      <td>100.001</td>\n",
       "      <td>50.001</td>\n",
       "      <td>60.003</td>\n",
       "      <td>29.997</td>\n",
       "      <td>50.001</td>\n",
       "      <td>30.003</td>\n",
       "      <td>30.001</td>\n",
       "      <td>50.002</td>\n",
       "      <td>30.001</td>\n",
       "      <td>30.002</td>\n",
       "      <td>80.003</td>\n",
       "      <td>39.998</td>\n",
       "      <td>29.999</td>\n",
       "      <td>80.001</td>\n",
       "      <td>39.997</td>\n",
       "    </tr>\n",
       "    <tr>\n",
       "      <th>3</th>\n",
       "      <td>200.002</td>\n",
       "      <td>99.996</td>\n",
       "      <td>49.999</td>\n",
       "      <td>100.001</td>\n",
       "      <td>49.998</td>\n",
       "      <td>60.000</td>\n",
       "      <td>30.000</td>\n",
       "      <td>50.006</td>\n",
       "      <td>30.001</td>\n",
       "      <td>30.001</td>\n",
       "      <td>49.999</td>\n",
       "      <td>29.999</td>\n",
       "      <td>29.996</td>\n",
       "      <td>80.002</td>\n",
       "      <td>39.998</td>\n",
       "      <td>30.002</td>\n",
       "      <td>80.002</td>\n",
       "      <td>39.999</td>\n",
       "    </tr>\n",
       "    <tr>\n",
       "      <th>4</th>\n",
       "      <td>199.999</td>\n",
       "      <td>100.003</td>\n",
       "      <td>50.003</td>\n",
       "      <td>100.000</td>\n",
       "      <td>50.001</td>\n",
       "      <td>60.000</td>\n",
       "      <td>30.000</td>\n",
       "      <td>49.998</td>\n",
       "      <td>30.002</td>\n",
       "      <td>30.001</td>\n",
       "      <td>50.000</td>\n",
       "      <td>29.999</td>\n",
       "      <td>30.004</td>\n",
       "      <td>79.998</td>\n",
       "      <td>39.999</td>\n",
       "      <td>30.003</td>\n",
       "      <td>80.002</td>\n",
       "      <td>40.000</td>\n",
       "    </tr>\n",
       "  </tbody>\n",
       "</table>\n",
       "</div>"
      ],
      "text/plain": [
       "   body_length  body_width  body_height  wavyfin_length  wavyfin_width  \\\n",
       "0      199.997      99.999       50.003         100.000         50.005   \n",
       "1      199.999     100.001       50.002          99.996         50.000   \n",
       "2      199.999     100.001       50.002         100.001         50.001   \n",
       "3      200.002      99.996       49.999         100.001         49.998   \n",
       "4      199.999     100.003       50.003         100.000         50.001   \n",
       "\n",
       "   wavyfin_height  pipe1_length  pipe1_width  pipe1_height  pipe2_length  \\\n",
       "0          60.003        29.996       50.004        30.002        29.998   \n",
       "1          60.004        29.998       50.004        29.995        30.000   \n",
       "2          60.003        29.997       50.001        30.003        30.001   \n",
       "3          60.000        30.000       50.006        30.001        30.001   \n",
       "4          60.000        30.000       49.998        30.002        30.001   \n",
       "\n",
       "   pipe2_width  pipe2_height  flange1_length  flange1_width  flange1_height  \\\n",
       "0       50.002        30.003          30.001         80.001          40.007   \n",
       "1       50.000        30.002          30.003         80.001          39.999   \n",
       "2       50.002        30.001          30.002         80.003          39.998   \n",
       "3       49.999        29.999          29.996         80.002          39.998   \n",
       "4       50.000        29.999          30.004         79.998          39.999   \n",
       "\n",
       "   flange2_length  flange2_width  flange2_height  \n",
       "0          30.002         79.999          40.004  \n",
       "1          29.998         79.999          39.999  \n",
       "2          29.999         80.001          39.997  \n",
       "3          30.002         80.002          39.999  \n",
       "4          30.003         80.002          40.000  "
      ]
     },
     "execution_count": 7,
     "metadata": {},
     "output_type": "execute_result"
    }
   ],
   "source": [
    "X_test = test.drop(['op60_test'], axis = 1) # test data에서 op60_test 칼럼을 drop으로 삭제\n",
    "X_test.head()"
   ]
  },
  {
   "cell_type": "code",
   "execution_count": 8,
   "metadata": {},
   "outputs": [
    {
     "data": {
      "text/plain": [
       "0    0\n",
       "1    0\n",
       "2    0\n",
       "3    0\n",
       "4    0\n",
       "Name: op60_test, dtype: int64"
      ]
     },
     "execution_count": 8,
     "metadata": {},
     "output_type": "execute_result"
    }
   ],
   "source": [
    "Y_test = test['op60_test'] # test data에서 op60_test 칼럼을 test label 값으로 설정\n",
    "Y_test.head()"
   ]
  },
  {
   "cell_type": "code",
   "execution_count": 9,
   "metadata": {},
   "outputs": [
    {
     "name": "stdout",
     "output_type": "stream",
     "text": [
      "랜덤 포레스트 정확도: 0.9435\n"
     ]
    }
   ],
   "source": [
    "rf_clf = RandomForestClassifier(random_state=0)  # RandomForest classifier 클래스를 통해 분류\n",
    "rf_clf.fit(X_train , Y_train) # train 값 학습\n",
    "pred = rf_clf.predict(X_test) # 학습을 토대로 test 값 평가\n",
    "accuracy = accuracy_score(Y_test , pred) # 정확도 측정\n",
    "print('랜덤 포레스트 정확도: {0:.4f}'.format(accuracy))"
   ]
  },
  {
   "cell_type": "code",
   "execution_count": 10,
   "metadata": {},
   "outputs": [
    {
     "name": "stdout",
     "output_type": "stream",
     "text": [
      "최적 하이퍼 파라미터:\n",
      " {'max_depth': 6, 'min_samples_leaf': 8, 'min_samples_split': 8, 'n_estimators': 300}\n",
      "최고 예측 정확도: 0.9333\n"
     ]
    }
   ],
   "source": [
    "from sklearn.model_selection import GridSearchCV # GridSearchCV를 활용한 하이퍼 파라미터 튜닝\n",
    "\n",
    "params = {\n",
    "    'n_estimators':[300],\n",
    "    'max_depth' : [6, 8, 10, 12], \n",
    "    'min_samples_leaf' : [8, 12, 18 ],\n",
    "    'min_samples_split' : [8, 16, 20]\n",
    "}\n",
    " # max_depth, min_samples_leaf, min_samples_split를 리스트로 설정 하여 학습을 했을 시 리스트 내에서 최적의 하이퍼 파라미터를 찾는다                           \n",
    "\n",
    "\n",
    "rf_clf = RandomForestClassifier(random_state=0, n_jobs=-1)\n",
    "grid_cv = GridSearchCV(rf_clf , param_grid=params , cv=2, n_jobs=-1 )\n",
    "grid_cv.fit(X_train , Y_train)\n",
    "\n",
    "print('최적 하이퍼 파라미터:\\n', grid_cv.best_params_)\n",
    "print('최고 예측 정확도: {0:.4f}'.format(grid_cv.best_score_))"
   ]
  },
  {
   "cell_type": "code",
   "execution_count": 11,
   "metadata": {},
   "outputs": [
    {
     "name": "stdout",
     "output_type": "stream",
     "text": [
      "예측 정확도: 0.9405\n"
     ]
    }
   ],
   "source": [
    "rf_clf1 = RandomForestClassifier(n_estimators=300, max_depth=10, min_samples_leaf=8, \\\n",
    "                                 min_samples_split=8, random_state=0)\n",
    "rf_clf1.fit(X_train , Y_train)\n",
    "pred = rf_clf1.predict(X_test)\n",
    "print('예측 정확도: {0:.4f}'.format(accuracy_score(Y_test , pred)))"
   ]
  },
  {
   "cell_type": "code",
   "execution_count": 12,
   "metadata": {},
   "outputs": [
    {
     "data": {
      "image/png": "[encoded data removed]",
      "text/plain": [
       "<Figure size 576x432 with 1 Axes>"
      ]
     },
     "metadata": {
      "needs_background": "light"
     },
     "output_type": "display_data"
    }
   ],
   "source": [
    "import matplotlib.pyplot as plt\n",
    "import seaborn as sns\n",
    "%matplotlib inline\n",
    "\n",
    "ftr_importances_values = rf_clf1.feature_importances_ # 각 칼럼별 정확도에 영향을 미치는 정도 확인\n",
    "ftr_importances = pd.Series(ftr_importances_values,index=X_train.columns  )\n",
    "ftr_top20 = ftr_importances.sort_values(ascending=False)[:20] # 상위 20개만 추출\n",
    "\n",
    "plt.figure(figsize=(8,6))\n",
    "plt.title('Feature importances Top 20')\n",
    "sns.barplot(x = ftr_top20 , y = ftr_top20.index)\n",
    "plt.show()"
   ]
  },
  {
   "cell_type": "code",
   "execution_count": null,
   "metadata": {},
   "outputs": [],
   "source": []
  },
  {
   "cell_type": "code",
   "execution_count": null,
   "metadata": {},
   "outputs": [],
   "source": []
  },
  {
   "cell_type": "code",
   "execution_count": null,
   "metadata": {},
   "outputs": [],
   "source": []
  },
  {
   "cell_type": "code",
   "execution_count": null,
   "metadata": {},
   "outputs": [],
   "source": []
  }
 ],
 "metadata": {
  "kernelspec": {
   "display_name": "Python 3",
   "language": "python",
   "name": "python3"
  },
  "language_info": {
   "codemirror_mode": {
    "name": "ipython",
    "version": 3
   },
   "file_extension": ".py",
   "mimetype": "text/x-python",
   "name": "python",
   "nbconvert_exporter": "python",
   "pygments_lexer": "ipython3",
   "version": "3.8.3"
  }
 },
 "nbformat": 4,
 "nbformat_minor": 2
}
